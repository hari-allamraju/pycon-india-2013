{
 "metadata": {
  "name": "6 Monitoring Celery"
 },
 "nbformat": 3,
 "nbformat_minor": 0,
 "worksheets": [
  {
   "cells": [
    {
     "cell_type": "markdown",
     "metadata": {},
     "source": [
      "![](http://pyconindia2013.doattend.com/system/logos/29370/std/Screen%20shot%202013-08-13%20at%2012.39.16%20PM.png?1376377713)"
     ]
    },
    {
     "cell_type": "markdown",
     "metadata": {},
     "source": [
      "Monitoring Celery is very easy with flower."
     ]
    }
   ],
   "metadata": {}
  }
 ]
}