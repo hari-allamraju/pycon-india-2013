{
 "metadata": {
  "name": "6 Monitoring Celery"
 },
 "nbformat": 3,
 "nbformat_minor": 0,
 "worksheets": [
  {
   "cells": [
    {
     "cell_type": "markdown",
     "metadata": {},
     "source": [
      "![](http://pyconindia2013.doattend.com/system/logos/29370/std/Screen%20shot%202013-08-13%20at%2012.39.16%20PM.png?1376377713)"
     ]
    },
    {
     "cell_type": "markdown",
     "metadata": {},
     "source": [
      "Monitoring Celery is very easy with flower. Its as easy as running 'celery flower' pointing it to the backend that you are using and making sure you do this before you start any of the worker nodes. All the workers are monitored."
     ]
    }
   ],
   "metadata": {}
  }
 ]
}