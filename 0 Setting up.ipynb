{
 "metadata": {
  "name": "0 Setting up"
 },
 "nbformat": 3,
 "nbformat_minor": 0,
 "worksheets": [
  {
   "cells": [
    {
     "cell_type": "markdown",
     "metadata": {},
     "source": [
      "![](http://pyconindia2013.doattend.com/system/logos/29370/std/Screen%20shot%202013-08-13%20at%2012.39.16%20PM.png?1376377713)"
     ]
    },
    {
     "cell_type": "heading",
     "level": 1,
     "metadata": {},
     "source": [
      "Distibuted task processing using Celery"
     ]
    },
    {
     "cell_type": "markdown",
     "metadata": {},
     "source": [
      "Basics\n",
      "======\n",
      "- Celery - http://celeryproject.com\n",
      "- Redis - http://redis.io\n",
      "- Handout - http://goo.gl/6rKmv \n",
      "- Sample code - https://github.com/supercoderz/pycon-india-2013 \n",
      "\n",
      "Software\n",
      "========\n",
      "- Python - version 2.x or 3.x are both fine\n",
      "- Install pip, the Python installer system - http://www.pip-installer.org/en/latest/\n",
      "- Redis - you can install this from http://redis.io/ - if you are using Linux or OSX, then you need to build this from the source tarball\n",
      "- If you are using Windows, then please download the binaries for Windows from this Github repo - https://github.com/MSOpenTech/redis. You can download the repo as a zip file and the binaries are under the bin folder.\n",
      "- Celery - if you have pip installed, then you can simply install Celery using the command 'pip install celery-with-redis'\n",
      "- Install Celery flower using 'pip install flower'\n",
      "- Install simplejson with 'pip install simplejson'"
     ]
    },
    {
     "cell_type": "markdown",
     "metadata": {},
     "source": [
      "![](http://imgs.xkcd.com/comics/python.png)"
     ]
    },
    {
     "cell_type": "markdown",
     "metadata": {},
     "source": [
      "About me\n",
      "========\n",
      "- Java developer by day with over 9 years experience building and maintaining enterprise messaging platforms and electronic trading applications\n",
      "- Interested in Python for last few years, playing around with Django and Celery in free time but never done a major project exclusively in Python\n",
      "- Picked up Celery after trying to build something similar for fun\n",
      "\n"
     ]
    }
   ],
   "metadata": {}
  }
 ]
}