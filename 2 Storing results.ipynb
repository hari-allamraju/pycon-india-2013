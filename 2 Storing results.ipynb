{
 "metadata": {
  "name": "2 Storing results"
 },
 "nbformat": 3,
 "nbformat_minor": 0,
 "worksheets": [
  {
   "cells": [
    {
     "cell_type": "raw",
     "metadata": {},
     "source": [
      "from celery import Celery\n",
      "\n",
      "celery = Celery('tut2',broker='redis://',backend='redis://')\n",
      "\n",
      "@celery.task\n",
      "def add(a,b):\n",
      "    print a+b\n",
      "\n",
      "\n",
      "@celery.task\n",
      "def mult(a,b):\n",
      "    return a*b "
     ]
    },
    {
     "cell_type": "code",
     "collapsed": false,
     "input": [
      "import tut2\n",
      "s=tut2.add.delay(2,3)\n",
      "print s.status\n",
      "print s.result"
     ],
     "language": "python",
     "metadata": {},
     "outputs": [
      {
       "output_type": "stream",
       "stream": "stdout",
       "text": [
        "PENDING\n",
        "None\n"
       ]
      }
     ],
     "prompt_number": 8
    },
    {
     "cell_type": "code",
     "collapsed": false,
     "input": [
      "s1=tut2.mult.delay(34,45)\n",
      "print s1.status\n",
      "print s1.result"
     ],
     "language": "python",
     "metadata": {},
     "outputs": [
      {
       "output_type": "stream",
       "stream": "stdout",
       "text": [
        "PENDING\n",
        "None\n"
       ]
      }
     ],
     "prompt_number": 15
    },
    {
     "cell_type": "code",
     "collapsed": false,
     "input": [
      "print s.state"
     ],
     "language": "python",
     "metadata": {},
     "outputs": [
      {
       "output_type": "stream",
       "stream": "stdout",
       "text": [
        "SUCCESS\n"
       ]
      }
     ],
     "prompt_number": 14
    },
    {
     "cell_type": "code",
     "collapsed": false,
     "input": [
      "print s1.result\n",
      "print s1.state"
     ],
     "language": "python",
     "metadata": {},
     "outputs": [
      {
       "output_type": "stream",
       "stream": "stdout",
       "text": [
        "1530\n",
        "SUCCESS\n"
       ]
      }
     ],
     "prompt_number": 16
    }
   ],
   "metadata": {}
  }
 ]
}